{
  "nbformat": 4,
  "nbformat_minor": 0,
  "metadata": {
    "colab": {
      "name": "Team1_Prediction.ipynb",
      "provenance": [],
      "collapsed_sections": []
    },
    "kernelspec": {
      "name": "python3",
      "display_name": "Python 3"
    },
    "accelerator": "GPU"
  },
  "cells": [
    {
      "cell_type": "code",
      "metadata": {
        "id": "w1hDk9hDvOH7",
        "colab_type": "code",
        "colab": {
          "base_uri": "https://localhost:8080/",
          "height": 133
        },
        "outputId": "9be42f39-3f80-4b9a-b805-e0189acd00d7"
      },
      "source": [
        "!pip install vecstack\n",
        "\n",
        "from vecstack import stacking\n",
        "import pandas as pd\n",
        "import numpy as np\n",
        "import matplotlib.pyplot as plt\n",
        "\n",
        "from sklearn.ensemble import RandomForestRegressor\n",
        "from sklearn.tree import DecisionTreeRegressor\n",
        "from sklearn.ensemble import GradientBoostingRegressor\n",
        "from sklearn.neural_network import MLPRegressor\n",
        "from sklearn.metrics import mean_squared_error\n",
        "from sklearn.model_selection import GridSearchCV\n",
        "from sklearn.model_selection import RandomizedSearchCV\n",
        "from sklearn.model_selection import cross_val_score\n",
        "from sklearn.metrics import accuracy_score as acc\n",
        "from sklearn.metrics import r2_score as r2\n",
        "\n",
        "pd.options.display.max_rows = 300\n",
        "pd.options.display.max_columns = 100\n",
        "\n",
        "import warnings\n",
        "warnings.filterwarnings(\"ignore\")\n",
        "\n",
        "\n",
        "from google.colab import drive\n",
        "drive.mount('/gdrive')\n",
        "#Change current working directory to gdrive\n",
        "%cd /gdrive\n",
        "\n"
      ],
      "execution_count": null,
      "outputs": [
        {
          "output_type": "stream",
          "text": [
            "Requirement already satisfied: vecstack in /usr/local/lib/python3.6/dist-packages (0.4.0)\n",
            "Requirement already satisfied: scipy in /usr/local/lib/python3.6/dist-packages (from vecstack) (1.3.2)\n",
            "Requirement already satisfied: numpy in /usr/local/lib/python3.6/dist-packages (from vecstack) (1.17.4)\n",
            "Requirement already satisfied: scikit-learn>=0.18 in /usr/local/lib/python3.6/dist-packages (from vecstack) (0.21.3)\n",
            "Requirement already satisfied: joblib>=0.11 in /usr/local/lib/python3.6/dist-packages (from scikit-learn>=0.18->vecstack) (0.14.0)\n",
            "Drive already mounted at /gdrive; to attempt to forcibly remount, call drive.mount(\"/gdrive\", force_remount=True).\n",
            "/gdrive\n"
          ],
          "name": "stdout"
        }
      ]
    },
    {
      "cell_type": "code",
      "metadata": {
        "id": "BMwGQK7KAd7T",
        "colab_type": "code",
        "colab": {
          "base_uri": "https://localhost:8080/",
          "height": 50
        },
        "outputId": "27b44249-0123-476b-8216-9ea7b987893f"
      },
      "source": [
        "trainfile = r'/gdrive/My Drive/ColabNotebooks/Team Assignment/few_missing_hotcoded_train.csv'\n",
        "trainData = pd.read_csv(trainfile) #creates a dataframe\n",
        "testfile = r'/gdrive/My Drive/ColabNotebooks/Team Assignment/few_missing_hotcoded_test.csv'\n",
        "testData = pd.read_csv(testfile)  #creates a dataframe\n",
        "\n",
        "\n",
        "print(trainData.shape)\n",
        "print(testData.shape)"
      ],
      "execution_count": null,
      "outputs": [
        {
          "output_type": "stream",
          "text": [
            "(1460, 271)\n",
            "(1459, 270)\n"
          ],
          "name": "stdout"
        }
      ]
    },
    {
      "cell_type": "code",
      "metadata": {
        "id": "SWOTk6C1Ao45",
        "colab_type": "code",
        "colab": {
          "base_uri": "https://localhost:8080/",
          "height": 313
        },
        "outputId": "2c945f6f-3737-46ae-f6e2-87ab3e82de3c"
      },
      "source": [
        "#Extract training and test data\n",
        "y_train = trainData[\"SalePrice\"]\n",
        "X_train = trainData.drop([\"SalePrice\"], axis=1) #extracting training data without the target column\n",
        "\n",
        "#We don't have target columns this time\n",
        "#y_test = testData[\"SalePrice\"] \n",
        "X_test = testData #extracting training data without the first columns\n",
        "\n",
        "print(X_train.shape)\n",
        "print(X_test.shape)\n",
        "print(y_train.shape)\n",
        "X_train.head()"
      ],
      "execution_count": null,
      "outputs": [
        {
          "output_type": "stream",
          "text": [
            "(1460, 270)\n",
            "(1459, 270)\n",
            "(1460,)\n"
          ],
          "name": "stdout"
        },
        {
          "output_type": "execute_result",
          "data": {
            "text/html": [
              "<div>\n",
              "<style scoped>\n",
              "    .dataframe tbody tr th:only-of-type {\n",
              "        vertical-align: middle;\n",
              "    }\n",
              "\n",
              "    .dataframe tbody tr th {\n",
              "        vertical-align: top;\n",
              "    }\n",
              "\n",
              "    .dataframe thead th {\n",
              "        text-align: right;\n",
              "    }\n",
              "</style>\n",
              "<table border=\"1\" class=\"dataframe\">\n",
              "  <thead>\n",
              "    <tr style=\"text-align: right;\">\n",
              "      <th></th>\n",
              "      <th>Id</th>\n",
              "      <th>MSSubClass</th>\n",
              "      <th>LotArea</th>\n",
              "      <th>OverallQual</th>\n",
              "      <th>OverallCond</th>\n",
              "      <th>YearBuilt</th>\n",
              "      <th>YearRemodAdd</th>\n",
              "      <th>MasVnrArea</th>\n",
              "      <th>BsmtFinSF1</th>\n",
              "      <th>BsmtFinSF2</th>\n",
              "      <th>BsmtUnfSF</th>\n",
              "      <th>TotalBsmtSF</th>\n",
              "      <th>1stFlrSF</th>\n",
              "      <th>2ndFlrSF</th>\n",
              "      <th>LowQualFinSF</th>\n",
              "      <th>GrLivArea</th>\n",
              "      <th>BsmtFullBath</th>\n",
              "      <th>BsmtHalfBath</th>\n",
              "      <th>FullBath</th>\n",
              "      <th>HalfBath</th>\n",
              "      <th>BedroomAbvGr</th>\n",
              "      <th>KitchenAbvGr</th>\n",
              "      <th>TotRmsAbvGrd</th>\n",
              "      <th>Fireplaces</th>\n",
              "      <th>GarageYrBlt</th>\n",
              "      <th>GarageCars</th>\n",
              "      <th>GarageArea</th>\n",
              "      <th>WoodDeckSF</th>\n",
              "      <th>OpenPorchSF</th>\n",
              "      <th>EnclosedPorch</th>\n",
              "      <th>3SsnPorch</th>\n",
              "      <th>ScreenPorch</th>\n",
              "      <th>PoolArea</th>\n",
              "      <th>MiscVal</th>\n",
              "      <th>MoSold</th>\n",
              "      <th>YrSold</th>\n",
              "      <th>MSZoning_C (all)</th>\n",
              "      <th>MSZoning_FV</th>\n",
              "      <th>MSZoning_RH</th>\n",
              "      <th>MSZoning_RL</th>\n",
              "      <th>MSZoning_RM</th>\n",
              "      <th>Street_Grvl</th>\n",
              "      <th>Street_Pave</th>\n",
              "      <th>LotShape_IR1</th>\n",
              "      <th>LotShape_IR2</th>\n",
              "      <th>LotShape_IR3</th>\n",
              "      <th>LotShape_Reg</th>\n",
              "      <th>LandContour_Bnk</th>\n",
              "      <th>LandContour_HLS</th>\n",
              "      <th>LandContour_Low</th>\n",
              "      <th>...</th>\n",
              "      <th>Electrical_Mix</th>\n",
              "      <th>Electrical_SBrkr</th>\n",
              "      <th>KitchenQual_Ex</th>\n",
              "      <th>KitchenQual_Fa</th>\n",
              "      <th>KitchenQual_Gd</th>\n",
              "      <th>KitchenQual_TA</th>\n",
              "      <th>Functional_Maj1</th>\n",
              "      <th>Functional_Maj2</th>\n",
              "      <th>Functional_Min1</th>\n",
              "      <th>Functional_Min2</th>\n",
              "      <th>Functional_Mod</th>\n",
              "      <th>Functional_Sev</th>\n",
              "      <th>Functional_Typ</th>\n",
              "      <th>GarageType_2Types</th>\n",
              "      <th>GarageType_Attchd</th>\n",
              "      <th>GarageType_Basment</th>\n",
              "      <th>GarageType_BuiltIn</th>\n",
              "      <th>GarageType_CarPort</th>\n",
              "      <th>GarageType_Detchd</th>\n",
              "      <th>GarageFinish_Fin</th>\n",
              "      <th>GarageFinish_RFn</th>\n",
              "      <th>GarageFinish_Unf</th>\n",
              "      <th>GarageQual_Ex</th>\n",
              "      <th>GarageQual_Fa</th>\n",
              "      <th>GarageQual_Gd</th>\n",
              "      <th>GarageQual_Po</th>\n",
              "      <th>GarageQual_TA</th>\n",
              "      <th>GarageCond_Ex</th>\n",
              "      <th>GarageCond_Fa</th>\n",
              "      <th>GarageCond_Gd</th>\n",
              "      <th>GarageCond_Po</th>\n",
              "      <th>GarageCond_TA</th>\n",
              "      <th>PavedDrive_N</th>\n",
              "      <th>PavedDrive_P</th>\n",
              "      <th>PavedDrive_Y</th>\n",
              "      <th>SaleType_COD</th>\n",
              "      <th>SaleType_CWD</th>\n",
              "      <th>SaleType_Con</th>\n",
              "      <th>SaleType_ConLD</th>\n",
              "      <th>SaleType_ConLI</th>\n",
              "      <th>SaleType_ConLw</th>\n",
              "      <th>SaleType_New</th>\n",
              "      <th>SaleType_Oth</th>\n",
              "      <th>SaleType_WD</th>\n",
              "      <th>SaleCondition_Abnorml</th>\n",
              "      <th>SaleCondition_AdjLand</th>\n",
              "      <th>SaleCondition_Alloca</th>\n",
              "      <th>SaleCondition_Family</th>\n",
              "      <th>SaleCondition_Normal</th>\n",
              "      <th>SaleCondition_Partial</th>\n",
              "    </tr>\n",
              "  </thead>\n",
              "  <tbody>\n",
              "    <tr>\n",
              "      <th>0</th>\n",
              "      <td>1</td>\n",
              "      <td>60</td>\n",
              "      <td>8450</td>\n",
              "      <td>7</td>\n",
              "      <td>5</td>\n",
              "      <td>2003</td>\n",
              "      <td>2003</td>\n",
              "      <td>196.0</td>\n",
              "      <td>706.0</td>\n",
              "      <td>0.0</td>\n",
              "      <td>150.0</td>\n",
              "      <td>856.0</td>\n",
              "      <td>856</td>\n",
              "      <td>854</td>\n",
              "      <td>0</td>\n",
              "      <td>1710</td>\n",
              "      <td>1.0</td>\n",
              "      <td>0.0</td>\n",
              "      <td>2</td>\n",
              "      <td>1</td>\n",
              "      <td>3</td>\n",
              "      <td>1</td>\n",
              "      <td>8</td>\n",
              "      <td>0</td>\n",
              "      <td>2003.0</td>\n",
              "      <td>2.0</td>\n",
              "      <td>548.0</td>\n",
              "      <td>0</td>\n",
              "      <td>61</td>\n",
              "      <td>0</td>\n",
              "      <td>0</td>\n",
              "      <td>0</td>\n",
              "      <td>0</td>\n",
              "      <td>0</td>\n",
              "      <td>2</td>\n",
              "      <td>2008</td>\n",
              "      <td>0</td>\n",
              "      <td>0</td>\n",
              "      <td>0</td>\n",
              "      <td>1</td>\n",
              "      <td>0</td>\n",
              "      <td>0</td>\n",
              "      <td>1</td>\n",
              "      <td>0</td>\n",
              "      <td>0</td>\n",
              "      <td>0</td>\n",
              "      <td>1</td>\n",
              "      <td>0</td>\n",
              "      <td>0</td>\n",
              "      <td>0</td>\n",
              "      <td>...</td>\n",
              "      <td>0</td>\n",
              "      <td>1</td>\n",
              "      <td>0</td>\n",
              "      <td>0</td>\n",
              "      <td>1</td>\n",
              "      <td>0</td>\n",
              "      <td>0</td>\n",
              "      <td>0</td>\n",
              "      <td>0</td>\n",
              "      <td>0</td>\n",
              "      <td>0</td>\n",
              "      <td>0</td>\n",
              "      <td>1</td>\n",
              "      <td>0</td>\n",
              "      <td>1</td>\n",
              "      <td>0</td>\n",
              "      <td>0</td>\n",
              "      <td>0</td>\n",
              "      <td>0</td>\n",
              "      <td>0</td>\n",
              "      <td>1</td>\n",
              "      <td>0</td>\n",
              "      <td>0</td>\n",
              "      <td>0</td>\n",
              "      <td>0</td>\n",
              "      <td>0</td>\n",
              "      <td>1</td>\n",
              "      <td>0</td>\n",
              "      <td>0</td>\n",
              "      <td>0</td>\n",
              "      <td>0</td>\n",
              "      <td>1</td>\n",
              "      <td>0</td>\n",
              "      <td>0</td>\n",
              "      <td>1</td>\n",
              "      <td>0</td>\n",
              "      <td>0</td>\n",
              "      <td>0</td>\n",
              "      <td>0</td>\n",
              "      <td>0</td>\n",
              "      <td>0</td>\n",
              "      <td>0</td>\n",
              "      <td>0</td>\n",
              "      <td>1</td>\n",
              "      <td>0</td>\n",
              "      <td>0</td>\n",
              "      <td>0</td>\n",
              "      <td>0</td>\n",
              "      <td>1</td>\n",
              "      <td>0</td>\n",
              "    </tr>\n",
              "    <tr>\n",
              "      <th>1</th>\n",
              "      <td>2</td>\n",
              "      <td>20</td>\n",
              "      <td>9600</td>\n",
              "      <td>6</td>\n",
              "      <td>8</td>\n",
              "      <td>1976</td>\n",
              "      <td>1976</td>\n",
              "      <td>0.0</td>\n",
              "      <td>978.0</td>\n",
              "      <td>0.0</td>\n",
              "      <td>284.0</td>\n",
              "      <td>1262.0</td>\n",
              "      <td>1262</td>\n",
              "      <td>0</td>\n",
              "      <td>0</td>\n",
              "      <td>1262</td>\n",
              "      <td>0.0</td>\n",
              "      <td>1.0</td>\n",
              "      <td>2</td>\n",
              "      <td>0</td>\n",
              "      <td>3</td>\n",
              "      <td>1</td>\n",
              "      <td>6</td>\n",
              "      <td>1</td>\n",
              "      <td>1976.0</td>\n",
              "      <td>2.0</td>\n",
              "      <td>460.0</td>\n",
              "      <td>298</td>\n",
              "      <td>0</td>\n",
              "      <td>0</td>\n",
              "      <td>0</td>\n",
              "      <td>0</td>\n",
              "      <td>0</td>\n",
              "      <td>0</td>\n",
              "      <td>5</td>\n",
              "      <td>2007</td>\n",
              "      <td>0</td>\n",
              "      <td>0</td>\n",
              "      <td>0</td>\n",
              "      <td>1</td>\n",
              "      <td>0</td>\n",
              "      <td>0</td>\n",
              "      <td>1</td>\n",
              "      <td>0</td>\n",
              "      <td>0</td>\n",
              "      <td>0</td>\n",
              "      <td>1</td>\n",
              "      <td>0</td>\n",
              "      <td>0</td>\n",
              "      <td>0</td>\n",
              "      <td>...</td>\n",
              "      <td>0</td>\n",
              "      <td>1</td>\n",
              "      <td>0</td>\n",
              "      <td>0</td>\n",
              "      <td>0</td>\n",
              "      <td>1</td>\n",
              "      <td>0</td>\n",
              "      <td>0</td>\n",
              "      <td>0</td>\n",
              "      <td>0</td>\n",
              "      <td>0</td>\n",
              "      <td>0</td>\n",
              "      <td>1</td>\n",
              "      <td>0</td>\n",
              "      <td>1</td>\n",
              "      <td>0</td>\n",
              "      <td>0</td>\n",
              "      <td>0</td>\n",
              "      <td>0</td>\n",
              "      <td>0</td>\n",
              "      <td>1</td>\n",
              "      <td>0</td>\n",
              "      <td>0</td>\n",
              "      <td>0</td>\n",
              "      <td>0</td>\n",
              "      <td>0</td>\n",
              "      <td>1</td>\n",
              "      <td>0</td>\n",
              "      <td>0</td>\n",
              "      <td>0</td>\n",
              "      <td>0</td>\n",
              "      <td>1</td>\n",
              "      <td>0</td>\n",
              "      <td>0</td>\n",
              "      <td>1</td>\n",
              "      <td>0</td>\n",
              "      <td>0</td>\n",
              "      <td>0</td>\n",
              "      <td>0</td>\n",
              "      <td>0</td>\n",
              "      <td>0</td>\n",
              "      <td>0</td>\n",
              "      <td>0</td>\n",
              "      <td>1</td>\n",
              "      <td>0</td>\n",
              "      <td>0</td>\n",
              "      <td>0</td>\n",
              "      <td>0</td>\n",
              "      <td>1</td>\n",
              "      <td>0</td>\n",
              "    </tr>\n",
              "    <tr>\n",
              "      <th>2</th>\n",
              "      <td>3</td>\n",
              "      <td>60</td>\n",
              "      <td>11250</td>\n",
              "      <td>7</td>\n",
              "      <td>5</td>\n",
              "      <td>2001</td>\n",
              "      <td>2002</td>\n",
              "      <td>162.0</td>\n",
              "      <td>486.0</td>\n",
              "      <td>0.0</td>\n",
              "      <td>434.0</td>\n",
              "      <td>920.0</td>\n",
              "      <td>920</td>\n",
              "      <td>866</td>\n",
              "      <td>0</td>\n",
              "      <td>1786</td>\n",
              "      <td>1.0</td>\n",
              "      <td>0.0</td>\n",
              "      <td>2</td>\n",
              "      <td>1</td>\n",
              "      <td>3</td>\n",
              "      <td>1</td>\n",
              "      <td>6</td>\n",
              "      <td>1</td>\n",
              "      <td>2001.0</td>\n",
              "      <td>2.0</td>\n",
              "      <td>608.0</td>\n",
              "      <td>0</td>\n",
              "      <td>42</td>\n",
              "      <td>0</td>\n",
              "      <td>0</td>\n",
              "      <td>0</td>\n",
              "      <td>0</td>\n",
              "      <td>0</td>\n",
              "      <td>9</td>\n",
              "      <td>2008</td>\n",
              "      <td>0</td>\n",
              "      <td>0</td>\n",
              "      <td>0</td>\n",
              "      <td>1</td>\n",
              "      <td>0</td>\n",
              "      <td>0</td>\n",
              "      <td>1</td>\n",
              "      <td>1</td>\n",
              "      <td>0</td>\n",
              "      <td>0</td>\n",
              "      <td>0</td>\n",
              "      <td>0</td>\n",
              "      <td>0</td>\n",
              "      <td>0</td>\n",
              "      <td>...</td>\n",
              "      <td>0</td>\n",
              "      <td>1</td>\n",
              "      <td>0</td>\n",
              "      <td>0</td>\n",
              "      <td>1</td>\n",
              "      <td>0</td>\n",
              "      <td>0</td>\n",
              "      <td>0</td>\n",
              "      <td>0</td>\n",
              "      <td>0</td>\n",
              "      <td>0</td>\n",
              "      <td>0</td>\n",
              "      <td>1</td>\n",
              "      <td>0</td>\n",
              "      <td>1</td>\n",
              "      <td>0</td>\n",
              "      <td>0</td>\n",
              "      <td>0</td>\n",
              "      <td>0</td>\n",
              "      <td>0</td>\n",
              "      <td>1</td>\n",
              "      <td>0</td>\n",
              "      <td>0</td>\n",
              "      <td>0</td>\n",
              "      <td>0</td>\n",
              "      <td>0</td>\n",
              "      <td>1</td>\n",
              "      <td>0</td>\n",
              "      <td>0</td>\n",
              "      <td>0</td>\n",
              "      <td>0</td>\n",
              "      <td>1</td>\n",
              "      <td>0</td>\n",
              "      <td>0</td>\n",
              "      <td>1</td>\n",
              "      <td>0</td>\n",
              "      <td>0</td>\n",
              "      <td>0</td>\n",
              "      <td>0</td>\n",
              "      <td>0</td>\n",
              "      <td>0</td>\n",
              "      <td>0</td>\n",
              "      <td>0</td>\n",
              "      <td>1</td>\n",
              "      <td>0</td>\n",
              "      <td>0</td>\n",
              "      <td>0</td>\n",
              "      <td>0</td>\n",
              "      <td>1</td>\n",
              "      <td>0</td>\n",
              "    </tr>\n",
              "    <tr>\n",
              "      <th>3</th>\n",
              "      <td>4</td>\n",
              "      <td>70</td>\n",
              "      <td>9550</td>\n",
              "      <td>7</td>\n",
              "      <td>5</td>\n",
              "      <td>1915</td>\n",
              "      <td>1970</td>\n",
              "      <td>0.0</td>\n",
              "      <td>216.0</td>\n",
              "      <td>0.0</td>\n",
              "      <td>540.0</td>\n",
              "      <td>756.0</td>\n",
              "      <td>961</td>\n",
              "      <td>756</td>\n",
              "      <td>0</td>\n",
              "      <td>1717</td>\n",
              "      <td>1.0</td>\n",
              "      <td>0.0</td>\n",
              "      <td>1</td>\n",
              "      <td>0</td>\n",
              "      <td>3</td>\n",
              "      <td>1</td>\n",
              "      <td>7</td>\n",
              "      <td>1</td>\n",
              "      <td>1998.0</td>\n",
              "      <td>3.0</td>\n",
              "      <td>642.0</td>\n",
              "      <td>0</td>\n",
              "      <td>35</td>\n",
              "      <td>272</td>\n",
              "      <td>0</td>\n",
              "      <td>0</td>\n",
              "      <td>0</td>\n",
              "      <td>0</td>\n",
              "      <td>2</td>\n",
              "      <td>2006</td>\n",
              "      <td>0</td>\n",
              "      <td>0</td>\n",
              "      <td>0</td>\n",
              "      <td>1</td>\n",
              "      <td>0</td>\n",
              "      <td>0</td>\n",
              "      <td>1</td>\n",
              "      <td>1</td>\n",
              "      <td>0</td>\n",
              "      <td>0</td>\n",
              "      <td>0</td>\n",
              "      <td>0</td>\n",
              "      <td>0</td>\n",
              "      <td>0</td>\n",
              "      <td>...</td>\n",
              "      <td>0</td>\n",
              "      <td>1</td>\n",
              "      <td>0</td>\n",
              "      <td>0</td>\n",
              "      <td>1</td>\n",
              "      <td>0</td>\n",
              "      <td>0</td>\n",
              "      <td>0</td>\n",
              "      <td>0</td>\n",
              "      <td>0</td>\n",
              "      <td>0</td>\n",
              "      <td>0</td>\n",
              "      <td>1</td>\n",
              "      <td>0</td>\n",
              "      <td>0</td>\n",
              "      <td>0</td>\n",
              "      <td>0</td>\n",
              "      <td>0</td>\n",
              "      <td>1</td>\n",
              "      <td>0</td>\n",
              "      <td>0</td>\n",
              "      <td>1</td>\n",
              "      <td>0</td>\n",
              "      <td>0</td>\n",
              "      <td>0</td>\n",
              "      <td>0</td>\n",
              "      <td>1</td>\n",
              "      <td>0</td>\n",
              "      <td>0</td>\n",
              "      <td>0</td>\n",
              "      <td>0</td>\n",
              "      <td>1</td>\n",
              "      <td>0</td>\n",
              "      <td>0</td>\n",
              "      <td>1</td>\n",
              "      <td>0</td>\n",
              "      <td>0</td>\n",
              "      <td>0</td>\n",
              "      <td>0</td>\n",
              "      <td>0</td>\n",
              "      <td>0</td>\n",
              "      <td>0</td>\n",
              "      <td>0</td>\n",
              "      <td>1</td>\n",
              "      <td>1</td>\n",
              "      <td>0</td>\n",
              "      <td>0</td>\n",
              "      <td>0</td>\n",
              "      <td>0</td>\n",
              "      <td>0</td>\n",
              "    </tr>\n",
              "    <tr>\n",
              "      <th>4</th>\n",
              "      <td>5</td>\n",
              "      <td>60</td>\n",
              "      <td>14260</td>\n",
              "      <td>8</td>\n",
              "      <td>5</td>\n",
              "      <td>2000</td>\n",
              "      <td>2000</td>\n",
              "      <td>350.0</td>\n",
              "      <td>655.0</td>\n",
              "      <td>0.0</td>\n",
              "      <td>490.0</td>\n",
              "      <td>1145.0</td>\n",
              "      <td>1145</td>\n",
              "      <td>1053</td>\n",
              "      <td>0</td>\n",
              "      <td>2198</td>\n",
              "      <td>1.0</td>\n",
              "      <td>0.0</td>\n",
              "      <td>2</td>\n",
              "      <td>1</td>\n",
              "      <td>4</td>\n",
              "      <td>1</td>\n",
              "      <td>9</td>\n",
              "      <td>1</td>\n",
              "      <td>2000.0</td>\n",
              "      <td>3.0</td>\n",
              "      <td>836.0</td>\n",
              "      <td>192</td>\n",
              "      <td>84</td>\n",
              "      <td>0</td>\n",
              "      <td>0</td>\n",
              "      <td>0</td>\n",
              "      <td>0</td>\n",
              "      <td>0</td>\n",
              "      <td>12</td>\n",
              "      <td>2008</td>\n",
              "      <td>0</td>\n",
              "      <td>0</td>\n",
              "      <td>0</td>\n",
              "      <td>1</td>\n",
              "      <td>0</td>\n",
              "      <td>0</td>\n",
              "      <td>1</td>\n",
              "      <td>1</td>\n",
              "      <td>0</td>\n",
              "      <td>0</td>\n",
              "      <td>0</td>\n",
              "      <td>0</td>\n",
              "      <td>0</td>\n",
              "      <td>0</td>\n",
              "      <td>...</td>\n",
              "      <td>0</td>\n",
              "      <td>1</td>\n",
              "      <td>0</td>\n",
              "      <td>0</td>\n",
              "      <td>1</td>\n",
              "      <td>0</td>\n",
              "      <td>0</td>\n",
              "      <td>0</td>\n",
              "      <td>0</td>\n",
              "      <td>0</td>\n",
              "      <td>0</td>\n",
              "      <td>0</td>\n",
              "      <td>1</td>\n",
              "      <td>0</td>\n",
              "      <td>1</td>\n",
              "      <td>0</td>\n",
              "      <td>0</td>\n",
              "      <td>0</td>\n",
              "      <td>0</td>\n",
              "      <td>0</td>\n",
              "      <td>1</td>\n",
              "      <td>0</td>\n",
              "      <td>0</td>\n",
              "      <td>0</td>\n",
              "      <td>0</td>\n",
              "      <td>0</td>\n",
              "      <td>1</td>\n",
              "      <td>0</td>\n",
              "      <td>0</td>\n",
              "      <td>0</td>\n",
              "      <td>0</td>\n",
              "      <td>1</td>\n",
              "      <td>0</td>\n",
              "      <td>0</td>\n",
              "      <td>1</td>\n",
              "      <td>0</td>\n",
              "      <td>0</td>\n",
              "      <td>0</td>\n",
              "      <td>0</td>\n",
              "      <td>0</td>\n",
              "      <td>0</td>\n",
              "      <td>0</td>\n",
              "      <td>0</td>\n",
              "      <td>1</td>\n",
              "      <td>0</td>\n",
              "      <td>0</td>\n",
              "      <td>0</td>\n",
              "      <td>0</td>\n",
              "      <td>1</td>\n",
              "      <td>0</td>\n",
              "    </tr>\n",
              "  </tbody>\n",
              "</table>\n",
              "<p>5 rows × 270 columns</p>\n",
              "</div>"
            ],
            "text/plain": [
              "   Id  MSSubClass  LotArea  OverallQual  OverallCond  YearBuilt  YearRemodAdd  \\\n",
              "0   1          60     8450            7            5       2003          2003   \n",
              "1   2          20     9600            6            8       1976          1976   \n",
              "2   3          60    11250            7            5       2001          2002   \n",
              "3   4          70     9550            7            5       1915          1970   \n",
              "4   5          60    14260            8            5       2000          2000   \n",
              "\n",
              "   MasVnrArea  BsmtFinSF1  BsmtFinSF2  BsmtUnfSF  TotalBsmtSF  1stFlrSF  \\\n",
              "0       196.0       706.0         0.0      150.0        856.0       856   \n",
              "1         0.0       978.0         0.0      284.0       1262.0      1262   \n",
              "2       162.0       486.0         0.0      434.0        920.0       920   \n",
              "3         0.0       216.0         0.0      540.0        756.0       961   \n",
              "4       350.0       655.0         0.0      490.0       1145.0      1145   \n",
              "\n",
              "   2ndFlrSF  LowQualFinSF  GrLivArea  BsmtFullBath  BsmtHalfBath  FullBath  \\\n",
              "0       854             0       1710           1.0           0.0         2   \n",
              "1         0             0       1262           0.0           1.0         2   \n",
              "2       866             0       1786           1.0           0.0         2   \n",
              "3       756             0       1717           1.0           0.0         1   \n",
              "4      1053             0       2198           1.0           0.0         2   \n",
              "\n",
              "   HalfBath  BedroomAbvGr  KitchenAbvGr  TotRmsAbvGrd  Fireplaces  \\\n",
              "0         1             3             1             8           0   \n",
              "1         0             3             1             6           1   \n",
              "2         1             3             1             6           1   \n",
              "3         0             3             1             7           1   \n",
              "4         1             4             1             9           1   \n",
              "\n",
              "   GarageYrBlt  GarageCars  GarageArea  WoodDeckSF  OpenPorchSF  \\\n",
              "0       2003.0         2.0       548.0           0           61   \n",
              "1       1976.0         2.0       460.0         298            0   \n",
              "2       2001.0         2.0       608.0           0           42   \n",
              "3       1998.0         3.0       642.0           0           35   \n",
              "4       2000.0         3.0       836.0         192           84   \n",
              "\n",
              "   EnclosedPorch  3SsnPorch  ScreenPorch  PoolArea  MiscVal  MoSold  YrSold  \\\n",
              "0              0          0            0         0        0       2    2008   \n",
              "1              0          0            0         0        0       5    2007   \n",
              "2              0          0            0         0        0       9    2008   \n",
              "3            272          0            0         0        0       2    2006   \n",
              "4              0          0            0         0        0      12    2008   \n",
              "\n",
              "   MSZoning_C (all)  MSZoning_FV  MSZoning_RH  MSZoning_RL  MSZoning_RM  \\\n",
              "0                 0            0            0            1            0   \n",
              "1                 0            0            0            1            0   \n",
              "2                 0            0            0            1            0   \n",
              "3                 0            0            0            1            0   \n",
              "4                 0            0            0            1            0   \n",
              "\n",
              "   Street_Grvl  Street_Pave  LotShape_IR1  LotShape_IR2  LotShape_IR3  \\\n",
              "0            0            1             0             0             0   \n",
              "1            0            1             0             0             0   \n",
              "2            0            1             1             0             0   \n",
              "3            0            1             1             0             0   \n",
              "4            0            1             1             0             0   \n",
              "\n",
              "   LotShape_Reg  LandContour_Bnk  LandContour_HLS  LandContour_Low  ...  \\\n",
              "0             1                0                0                0  ...   \n",
              "1             1                0                0                0  ...   \n",
              "2             0                0                0                0  ...   \n",
              "3             0                0                0                0  ...   \n",
              "4             0                0                0                0  ...   \n",
              "\n",
              "   Electrical_Mix  Electrical_SBrkr  KitchenQual_Ex  KitchenQual_Fa  \\\n",
              "0               0                 1               0               0   \n",
              "1               0                 1               0               0   \n",
              "2               0                 1               0               0   \n",
              "3               0                 1               0               0   \n",
              "4               0                 1               0               0   \n",
              "\n",
              "   KitchenQual_Gd  KitchenQual_TA  Functional_Maj1  Functional_Maj2  \\\n",
              "0               1               0                0                0   \n",
              "1               0               1                0                0   \n",
              "2               1               0                0                0   \n",
              "3               1               0                0                0   \n",
              "4               1               0                0                0   \n",
              "\n",
              "   Functional_Min1  Functional_Min2  Functional_Mod  Functional_Sev  \\\n",
              "0                0                0               0               0   \n",
              "1                0                0               0               0   \n",
              "2                0                0               0               0   \n",
              "3                0                0               0               0   \n",
              "4                0                0               0               0   \n",
              "\n",
              "   Functional_Typ  GarageType_2Types  GarageType_Attchd  GarageType_Basment  \\\n",
              "0               1                  0                  1                   0   \n",
              "1               1                  0                  1                   0   \n",
              "2               1                  0                  1                   0   \n",
              "3               1                  0                  0                   0   \n",
              "4               1                  0                  1                   0   \n",
              "\n",
              "   GarageType_BuiltIn  GarageType_CarPort  GarageType_Detchd  \\\n",
              "0                   0                   0                  0   \n",
              "1                   0                   0                  0   \n",
              "2                   0                   0                  0   \n",
              "3                   0                   0                  1   \n",
              "4                   0                   0                  0   \n",
              "\n",
              "   GarageFinish_Fin  GarageFinish_RFn  GarageFinish_Unf  GarageQual_Ex  \\\n",
              "0                 0                 1                 0              0   \n",
              "1                 0                 1                 0              0   \n",
              "2                 0                 1                 0              0   \n",
              "3                 0                 0                 1              0   \n",
              "4                 0                 1                 0              0   \n",
              "\n",
              "   GarageQual_Fa  GarageQual_Gd  GarageQual_Po  GarageQual_TA  GarageCond_Ex  \\\n",
              "0              0              0              0              1              0   \n",
              "1              0              0              0              1              0   \n",
              "2              0              0              0              1              0   \n",
              "3              0              0              0              1              0   \n",
              "4              0              0              0              1              0   \n",
              "\n",
              "   GarageCond_Fa  GarageCond_Gd  GarageCond_Po  GarageCond_TA  PavedDrive_N  \\\n",
              "0              0              0              0              1             0   \n",
              "1              0              0              0              1             0   \n",
              "2              0              0              0              1             0   \n",
              "3              0              0              0              1             0   \n",
              "4              0              0              0              1             0   \n",
              "\n",
              "   PavedDrive_P  PavedDrive_Y  SaleType_COD  SaleType_CWD  SaleType_Con  \\\n",
              "0             0             1             0             0             0   \n",
              "1             0             1             0             0             0   \n",
              "2             0             1             0             0             0   \n",
              "3             0             1             0             0             0   \n",
              "4             0             1             0             0             0   \n",
              "\n",
              "   SaleType_ConLD  SaleType_ConLI  SaleType_ConLw  SaleType_New  SaleType_Oth  \\\n",
              "0               0               0               0             0             0   \n",
              "1               0               0               0             0             0   \n",
              "2               0               0               0             0             0   \n",
              "3               0               0               0             0             0   \n",
              "4               0               0               0             0             0   \n",
              "\n",
              "   SaleType_WD  SaleCondition_Abnorml  SaleCondition_AdjLand  \\\n",
              "0            1                      0                      0   \n",
              "1            1                      0                      0   \n",
              "2            1                      0                      0   \n",
              "3            1                      1                      0   \n",
              "4            1                      0                      0   \n",
              "\n",
              "   SaleCondition_Alloca  SaleCondition_Family  SaleCondition_Normal  \\\n",
              "0                     0                     0                     1   \n",
              "1                     0                     0                     1   \n",
              "2                     0                     0                     1   \n",
              "3                     0                     0                     0   \n",
              "4                     0                     0                     1   \n",
              "\n",
              "   SaleCondition_Partial  \n",
              "0                      0  \n",
              "1                      0  \n",
              "2                      0  \n",
              "3                      0  \n",
              "4                      0  \n",
              "\n",
              "[5 rows x 270 columns]"
            ]
          },
          "metadata": {
            "tags": []
          },
          "execution_count": 105
        }
      ]
    },
    {
      "cell_type": "code",
      "metadata": {
        "id": "uegai7u0BU-z",
        "colab_type": "code",
        "colab": {
          "base_uri": "https://localhost:8080/",
          "height": 50
        },
        "outputId": "d0340a21-163c-4726-d3df-8705d6a40410"
      },
      "source": [
        "#Defining parameters\n",
        "import math\n",
        "#Setting a DTR model\n",
        "model = DecisionTreeRegressor()\n",
        "x = X_train\n",
        "y = y_train\n",
        "test = X_test\n",
        "\n",
        "#Put in the function for prediction and outputs\n",
        "model.fit(x,y)\n",
        "rmse = math.sqrt(mean_squared_error(y, model.predict(x)))\n",
        "print(rmse)\n",
        "cross_val_score(model,x,y,cv=3, scoring=\"neg_mean_squared_error\")\n"
      ],
      "execution_count": null,
      "outputs": [
        {
          "output_type": "stream",
          "text": [
            "0.0\n"
          ],
          "name": "stdout"
        },
        {
          "output_type": "execute_result",
          "data": {
            "text/plain": [
              "array([-1.55980917e+09, -1.66416252e+09, -3.19721651e+09])"
            ]
          },
          "metadata": {
            "tags": []
          },
          "execution_count": 143
        }
      ]
    },
    {
      "cell_type": "code",
      "metadata": {
        "id": "2qUzZIXD9cxa",
        "colab_type": "code",
        "colab": {
          "base_uri": "https://localhost:8080/",
          "height": 86
        },
        "outputId": "fc6e72a4-1436-4be9-d2cf-60defbea0cfb"
      },
      "source": [
        "#Check the shape of the tree\n",
        "print(model.get_depth())\n",
        "print(model.get_n_leaves())\n",
        "print(model.get_params())"
      ],
      "execution_count": null,
      "outputs": [
        {
          "output_type": "stream",
          "text": [
            "30\n",
            "1399\n",
            "{'criterion': 'mse', 'max_depth': None, 'max_features': None, 'max_leaf_nodes': None, 'min_impurity_decrease': 0.0, 'min_impurity_split': None, 'min_samples_leaf': 1, 'min_samples_split': 2, 'min_weight_fraction_leaf': 0.0, 'presort': False, 'random_state': None, 'splitter': 'best'}\n"
          ],
          "name": "stdout"
        }
      ]
    },
    {
      "cell_type": "code",
      "metadata": {
        "id": "lerpYKC5CRsH",
        "colab_type": "code",
        "colab": {}
      },
      "source": [
        "#Save predictions\n",
        "output_directory = r'/gdrive/My Drive/ColabNotebooks/Team Assignment/DT_Reg.csv'\n",
        "predictions = model.predict(test)\n",
        "ID = test[\"Id\"]\n",
        "predict=pd.DataFrame(predictions,columns=['SalePrice'])\n",
        "pd.concat([ID, predict],axis =1).to_csv(output_directory, index = None)"
      ],
      "execution_count": null,
      "outputs": []
    },
    {
      "cell_type": "code",
      "metadata": {
        "id": "1mc63g1742sV",
        "colab_type": "code",
        "colab": {
          "base_uri": "https://localhost:8080/",
          "height": 50
        },
        "outputId": "d3d43a81-d971-4b64-a9b2-9fe5288bed3c"
      },
      "source": [
        "# use a full grid over all parameters\n",
        "model = DecisionTreeRegressor()\n",
        "x = X_train\n",
        "y = y_train\n",
        "test = X_test\n",
        "param_grid = {\"max_depth\": range(1,41,5),\n",
        "              \"max_leaf_nodes\":range(600,1501,100)}\n",
        "\n",
        "# run grid search\n",
        "grid_search = GridSearchCV(model, param_grid=param_grid, cv=3, scoring=\"neg_mean_squared_error\")\n",
        "grid_search.fit(x, y)\n",
        "pram = grid_search.best_params_\n",
        "print(pram)\n",
        "print(grid_search.best_score_)"
      ],
      "execution_count": null,
      "outputs": [
        {
          "output_type": "stream",
          "text": [
            "{'max_depth': 16, 'max_leaf_nodes': 1300}\n",
            "-1639785862.8504608\n"
          ],
          "name": "stdout"
        }
      ]
    },
    {
      "cell_type": "code",
      "metadata": {
        "id": "7dFH7z8YE5Us",
        "colab_type": "code",
        "colab": {
          "base_uri": "https://localhost:8080/",
          "height": 50
        },
        "outputId": "30ba9d3b-8e62-452f-c09e-cd8dd7519142"
      },
      "source": [
        "#Defining parameters\n",
        "#Setting a DTR model\n",
        "model = DecisionTreeRegressor(**pram)\n",
        "x = X_train\n",
        "y = y_train\n",
        "test = X_test\n",
        "\n",
        "#Put in the function for prediction and outputs\n",
        "model.fit(x,y)\n",
        "rmse = math.sqrt(mean_squared_error(y, model.predict(x)))\n",
        "print(rmse)\n",
        "cross_val_score(model,x,y,cv=3, scoring=\"neg_mean_squared_error\")"
      ],
      "execution_count": null,
      "outputs": [
        {
          "output_type": "stream",
          "text": [
            "2780.4610898631977\n"
          ],
          "name": "stdout"
        },
        {
          "output_type": "execute_result",
          "data": {
            "text/plain": [
              "array([-1.57457075e+09, -1.77543763e+09, -3.20657722e+09])"
            ]
          },
          "metadata": {
            "tags": []
          },
          "execution_count": 141
        }
      ]
    },
    {
      "cell_type": "code",
      "metadata": {
        "id": "haJpHX1t5qHg",
        "colab_type": "code",
        "colab": {}
      },
      "source": [
        "#Save predictions\n",
        "output_directory = r'/gdrive/My Drive/ColabNotebooks/Team Assignment/GridSearch_DT_Reg.csv'\n",
        "predictions = model.predict(test)\n",
        "ID = test[\"Id\"]\n",
        "predict=pd.DataFrame(predictions,columns=['SalePrice'])\n",
        "pd.concat([ID, predict],axis =1).to_csv(output_directory, index = None)"
      ],
      "execution_count": null,
      "outputs": []
    },
    {
      "cell_type": "code",
      "metadata": {
        "id": "PLDP4Rax41xf",
        "colab_type": "code",
        "colab": {
          "base_uri": "https://localhost:8080/",
          "height": 50
        },
        "outputId": "4d03c69c-1db8-4f21-aad5-3858015e7bd4"
      },
      "source": [
        "#=======================RFR=============================================\n",
        "# use a full grid over all parameters\n",
        "model = RandomForestRegressor()\n",
        "\n",
        "param_grid = {\"n_estimators\": [50,100,150,200],\n",
        "              \"max_depth\":range(20,41,10),\n",
        "              \"max_leaf_nodes\":range(800,1600,100)}\n",
        "\n",
        "# run grid search\n",
        "grid_search = GridSearchCV(model, param_grid=param_grid, cv=3, scoring=\"neg_mean_squared_error\")\n",
        "grid_search.fit(x, y)\n",
        "pram = grid_search.best_params_\n",
        "print(pram)\n",
        "print(grid_search.best_score_)"
      ],
      "execution_count": null,
      "outputs": [
        {
          "output_type": "stream",
          "text": [
            "{'max_depth': 30, 'max_leaf_nodes': 1400, 'n_estimators': 150}\n",
            "-893880992.204415\n"
          ],
          "name": "stdout"
        }
      ]
    },
    {
      "cell_type": "code",
      "metadata": {
        "id": "2yoBMOnD410K",
        "colab_type": "code",
        "colab": {
          "base_uri": "https://localhost:8080/",
          "height": 50
        },
        "outputId": "a76241d3-ffcf-4ab2-83ab-c7846b25fb90"
      },
      "source": [
        "#Setting a RFRmodel using best gridSearch Paramaters\n",
        "model = RandomForestRegressor(**pram)\n",
        "x = X_train\n",
        "y = y_train\n",
        "test = X_test\n",
        "\n",
        "#Put in the function for prediction and outputs\n",
        "model.fit(x,y)\n",
        "rmse = math.sqrt(mean_squared_error(y, model.predict(x)))\n",
        "print(rmse)\n",
        "cross_val_score(model,x,y,cv=3, scoring=\"neg_mean_squared_error\")"
      ],
      "execution_count": null,
      "outputs": [
        {
          "output_type": "stream",
          "text": [
            "13381.991066962866\n"
          ],
          "name": "stdout"
        },
        {
          "output_type": "execute_result",
          "data": {
            "text/plain": [
              "array([-7.72033155e+08, -1.10081642e+09, -1.21094604e+09])"
            ]
          },
          "metadata": {
            "tags": []
          },
          "execution_count": 182
        }
      ]
    },
    {
      "cell_type": "code",
      "metadata": {
        "id": "G5n0Kol24152",
        "colab_type": "code",
        "colab": {}
      },
      "source": [
        "#Save predictions\n",
        "output_directory = r'/gdrive/My Drive/ColabNotebooks/Team Assignment/RF_Reg.csv'\n",
        "predictions = model.predict(test)\n",
        "ID = test[\"Id\"]\n",
        "predict=pd.DataFrame(predictions,columns=['SalePrice'])\n",
        "pd.concat([ID, predict],axis =1).to_csv(output_directory, index = None)"
      ],
      "execution_count": null,
      "outputs": []
    },
    {
      "cell_type": "code",
      "metadata": {
        "id": "UIL3Of3mI_V6",
        "colab_type": "code",
        "colab": {
          "base_uri": "https://localhost:8080/",
          "height": 50
        },
        "outputId": "9dc2a2d3-7fca-4863-eb45-4441f4c5076c"
      },
      "source": [
        "#Gradient Boosting Regressor==============================================================================\n",
        "# use a full grid over all parameters\n",
        "model = GradientBoostingRegressor()\n",
        "\n",
        "param_grid = {\"n_estimators\": [50,100,150,200],\n",
        "              \"max_features\":[\"auto\",\"log2\",\"sqrt\"],\n",
        "              \"learning_rate\":[0.05,0.1,0.2]}\n",
        "\n",
        "# run grid search\n",
        "grid_search = GridSearchCV(model, param_grid=param_grid, cv=3, scoring=\"neg_mean_squared_error\")\n",
        "grid_search.fit(x, y)\n",
        "pram = grid_search.best_params_\n",
        "print(pram)\n",
        "print(grid_search.best_score_)"
      ],
      "execution_count": null,
      "outputs": [
        {
          "output_type": "stream",
          "text": [
            "{'learning_rate': 0.1, 'max_features': 'sqrt', 'n_estimators': 100}\n",
            "-694042805.7110101\n"
          ],
          "name": "stdout"
        }
      ]
    },
    {
      "cell_type": "code",
      "metadata": {
        "id": "1F5cZD5i418q",
        "colab_type": "code",
        "colab": {
          "base_uri": "https://localhost:8080/",
          "height": 50
        },
        "outputId": "c8d70c58-cb8b-483a-d762-7dc1a3d5d565"
      },
      "source": [
        "#Setting a GBR model using best gridSearch Paramaters\n",
        "model = GradientBoostingRegressor()\n",
        "x = X_train\n",
        "y = y_train\n",
        "test = X_test\n",
        "\n",
        "#Put in the function for prediction and outputs\n",
        "model.fit(x,y)\n",
        "rmse = math.sqrt(mean_squared_error(y, model.predict(x)))\n",
        "print(rmse)\n",
        "cross_val_score(model,x,y,cv=3, scoring=\"neg_mean_squared_error\")"
      ],
      "execution_count": null,
      "outputs": [
        {
          "output_type": "stream",
          "text": [
            "14522.55464790288\n"
          ],
          "name": "stdout"
        },
        {
          "output_type": "execute_result",
          "data": {
            "text/plain": [
              "array([-5.73964259e+08, -8.44023014e+08, -6.63862101e+08])"
            ]
          },
          "metadata": {
            "tags": []
          },
          "execution_count": 184
        }
      ]
    },
    {
      "cell_type": "code",
      "metadata": {
        "id": "D_alZUxh41_7",
        "colab_type": "code",
        "colab": {}
      },
      "source": [
        "#Save predictions\n",
        "output_directory = r'/gdrive/My Drive/ColabNotebooks/Team Assignment/GB_Reg.csv'\n",
        "predictions = model.predict(test)\n",
        "ID = test[\"Id\"]\n",
        "predict=pd.DataFrame(predictions,columns=['SalePrice'])\n",
        "pd.concat([ID, predict],axis =1).to_csv(output_directory, index = None)"
      ],
      "execution_count": null,
      "outputs": []
    },
    {
      "cell_type": "code",
      "metadata": {
        "id": "VDr7rHlo42DB",
        "colab_type": "code",
        "colab": {
          "base_uri": "https://localhost:8080/",
          "height": 50
        },
        "outputId": "8f2d79d9-184e-446d-9dfa-8c9bdef38093"
      },
      "source": [
        "#Multi layer perceptron ==============================================================================\n",
        "# use a full grid over all parameters\n",
        "model = MLPRegressor()\n",
        "\n",
        "param_grid = {\"max_iter\": [1000,1250,1500],\n",
        "              \"solver\":[\"lbfgs\",\"sgd\",\"adam\"],\n",
        "              \"learning_rate\":[\"constant\",\"invscaling\",\"adaptive\"]}\n",
        "\n",
        "# run grid search\n",
        "grid_search = GridSearchCV(model, param_grid=param_grid, cv=3, scoring=\"neg_mean_squared_error\")\n",
        "grid_search.fit(x, y)\n",
        "pram = grid_search.best_params_\n",
        "print(pram)\n",
        "print(grid_search.best_score_)"
      ],
      "execution_count": null,
      "outputs": [
        {
          "output_type": "stream",
          "text": [
            "{'learning_rate': 'adaptive', 'max_iter': 1000, 'solver': 'lbfgs'}\n",
            "-1511707708.5737324\n"
          ],
          "name": "stdout"
        }
      ]
    },
    {
      "cell_type": "code",
      "metadata": {
        "id": "MhBwGdYs413s",
        "colab_type": "code",
        "colab": {
          "base_uri": "https://localhost:8080/",
          "height": 50
        },
        "outputId": "e6ffbfca-05ce-46ce-b52f-942d2fa4c959"
      },
      "source": [
        "#Setting a MLP model using best gridSearch Paramaters\n",
        "model = MLPRegressor()\n",
        "x = X_train\n",
        "y = y_train\n",
        "test = X_test\n",
        "\n",
        "#Put in the function for prediction and outputs\n",
        "model.fit(x,y)\n",
        "rmse = math.sqrt(mean_squared_error(y, model.predict(x)))\n",
        "print(rmse)\n",
        "cross_val_score(model,x,y,cv=3, scoring=\"neg_mean_squared_error\")"
      ],
      "execution_count": null,
      "outputs": [
        {
          "output_type": "stream",
          "text": [
            "43977.42841055921\n"
          ],
          "name": "stdout"
        },
        {
          "output_type": "execute_result",
          "data": {
            "text/plain": [
              "array([-2.51249427e+09, -2.86338309e+09, -2.89338810e+09])"
            ]
          },
          "metadata": {
            "tags": []
          },
          "execution_count": 178
        }
      ]
    },
    {
      "cell_type": "code",
      "metadata": {
        "id": "4xInhR6b41uj",
        "colab_type": "code",
        "colab": {}
      },
      "source": [
        "#Save predictions\n",
        "output_directory = r'/gdrive/My Drive/ColabNotebooks/Team Assignment/GridSearch_MLP.csv'\n",
        "predictions = model.predict(test)\n",
        "ID = test[\"Id\"]\n",
        "predict=pd.DataFrame(predictions,columns=['SalePrice'])\n",
        "pd.concat([ID, predict],axis =1).to_csv(output_directory, index = None)"
      ],
      "execution_count": null,
      "outputs": []
    },
    {
      "cell_type": "code",
      "metadata": {
        "id": "7VldsdloUV2x",
        "colab_type": "code",
        "colab": {
          "base_uri": "https://localhost:8080/",
          "height": 750
        },
        "outputId": "7238e705-7689-4800-dfa3-671cdf296243"
      },
      "source": [
        "#==========================Model Stacking\n",
        "\n",
        "print(\"___________________________________________________________________________________________\\nEnsemble Methods Predictions using GradientBoosting, RandomForest and Decision Tree Classifier\\n\")\n",
        "\n",
        "# specify specific model to use to stack them together, you can pass the optimal solution of in the argument\n",
        "models = [GradientBoostingRegressor() ,\\\n",
        "          RandomForestRegressor(max_depth=30, max_leaf_nodes=1400, n_estimators=150), \\\n",
        "          DecisionTreeRegressor() ]\n",
        "      \n",
        "S_Train, S_Test = stacking(models,                   \n",
        "                           X_train, y_train, X_test,   \n",
        "                           regression=True, \n",
        "                           mode='oof_pred_bag', \n",
        "                           needs_proba=False,\n",
        "                           save_dir=None,\n",
        "                           metric=mean_squared_error, \n",
        "                           n_folds=7, \n",
        "                           stratified=True,\n",
        "                           shuffle=True,  \n",
        "                           random_state=0,    \n",
        "                           verbose=2)\n"
      ],
      "execution_count": null,
      "outputs": [
        {
          "output_type": "stream",
          "text": [
            "___________________________________________________________________________________________\n",
            "Ensemble Methods Predictions using GradientBoosting, RandomForest and Decision Tree Classifier\n",
            "\n",
            "task:         [regression]\n",
            "metric:       [mean_squared_error]\n",
            "mode:         [oof_pred_bag]\n",
            "n_models:     [3]\n",
            "\n",
            "model  0:     [GradientBoostingRegressor]\n",
            "    fold  0:  [564179302.33083892]\n",
            "    fold  1:  [894216455.21147561]\n",
            "    fold  2:  [555730065.05738556]\n",
            "    fold  3:  [1218876651.79300904]\n",
            "    fold  4:  [806349037.65491283]\n",
            "    fold  5:  [462638574.28025395]\n",
            "    fold  6:  [394827379.09468180]\n",
            "    ----\n",
            "    MEAN:     [699545352.20322251] + [269123851.77042353]\n",
            "    FULL:     [699843174.85087991]\n",
            "\n",
            "model  1:     [RandomForestRegressor]\n",
            "    fold  0:  [673242259.07528555]\n",
            "    fold  1:  [1282813393.45660663]\n",
            "    fold  2:  [700774333.89826608]\n",
            "    fold  3:  [1211901417.03859901]\n",
            "    fold  4:  [850319694.88750696]\n",
            "    fold  5:  [691374564.50219965]\n",
            "    fold  6:  [485132903.34281570]\n",
            "    ----\n",
            "    MEAN:     [842222652.31446838] + [275078790.49617338]\n",
            "    FULL:     [842565009.02283204]\n",
            "\n",
            "model  2:     [DecisionTreeRegressor]\n",
            "    fold  0:  [1413387472.95215321]\n",
            "    fold  1:  [2548047079.29665089]\n",
            "    fold  2:  [1458280709.51674652]\n",
            "    fold  3:  [1931126254.31578946]\n",
            "    fold  4:  [1859521195.18750000]\n",
            "    fold  5:  [1078211263.52884626]\n",
            "    fold  6:  [1297929660.05288458]\n",
            "    ----\n",
            "    MEAN:     [1655214804.97865319] + [458704224.20429331]\n",
            "    FULL:     [1655714792.85273981]\n",
            "\n"
          ],
          "name": "stdout"
        }
      ]
    },
    {
      "cell_type": "code",
      "metadata": {
        "id": "2lKMnG_vW_qJ",
        "colab_type": "code",
        "colab": {
          "base_uri": "https://localhost:8080/",
          "height": 50
        },
        "outputId": "cd437176-96fe-4e6f-8675-643ea0e36fb2"
      },
      "source": [
        "#Setting a GBR model using Stacking dataset\n",
        "model = GradientBoostingRegressor()\n",
        "x = S_Train\n",
        "y = y_train\n",
        "test = S_Test\n",
        "\n",
        "#Put in the function for prediction and outputs\n",
        "model.fit(x,y)\n",
        "rmse = math.sqrt(mean_squared_error(y, model.predict(x)))\n",
        "print(rmse)\n",
        "cross_val_score(model,x,y,cv=3, scoring=\"neg_mean_squared_error\")"
      ],
      "execution_count": null,
      "outputs": [
        {
          "output_type": "stream",
          "text": [
            "17888.394134950628\n"
          ],
          "name": "stdout"
        },
        {
          "output_type": "execute_result",
          "data": {
            "text/plain": [
              "array([-6.78642655e+08, -1.02072245e+09, -7.81121958e+08])"
            ]
          },
          "metadata": {
            "tags": []
          },
          "execution_count": 193
        }
      ]
    },
    {
      "cell_type": "code",
      "metadata": {
        "id": "fBL1lj3eXgSG",
        "colab_type": "code",
        "colab": {}
      },
      "source": [
        "#Save predictions\n",
        "output_directory = r'/gdrive/My Drive/ColabNotebooks/Team Assignment/GB_Stacking_Reg.csv'\n",
        "predictions = model.predict(test)\n",
        "ID = testData[\"Id\"]\n",
        "predict=pd.DataFrame(predictions,columns=['SalePrice'])\n",
        "pd.concat([ID, predict],axis =1).to_csv(output_directory, index = None)"
      ],
      "execution_count": null,
      "outputs": []
    },
    {
      "cell_type": "code",
      "metadata": {
        "id": "d9QbPVvTXn0-",
        "colab_type": "code",
        "colab": {
          "base_uri": "https://localhost:8080/",
          "height": 50
        },
        "outputId": "23cde769-49bd-47a3-8327-b42b5c8b84db"
      },
      "source": [
        "#Setting a RFR model using Stacking dataset\n",
        "model = RandomForestRegressor(max_depth=30, max_leaf_nodes=1400, n_estimators=150)\n",
        "x = S_Train\n",
        "y = y_train\n",
        "test = S_Test\n",
        "\n",
        "#Put in the function for prediction and outputs\n",
        "model.fit(x,y)\n",
        "rmse = math.sqrt(mean_squared_error(y, model.predict(x)))\n",
        "print(rmse)\n",
        "cross_val_score(model,x,y,cv=3, scoring=\"neg_mean_squared_error\")"
      ],
      "execution_count": null,
      "outputs": [
        {
          "output_type": "stream",
          "text": [
            "11117.912081821254\n"
          ],
          "name": "stdout"
        },
        {
          "output_type": "execute_result",
          "data": {
            "text/plain": [
              "array([-6.14241707e+08, -1.10158923e+09, -7.35543320e+08])"
            ]
          },
          "metadata": {
            "tags": []
          },
          "execution_count": 201
        }
      ]
    },
    {
      "cell_type": "code",
      "metadata": {
        "id": "3zB-ozaCXn3q",
        "colab_type": "code",
        "colab": {}
      },
      "source": [
        "#Save predictions\n",
        "output_directory = r'/gdrive/My Drive/ColabNotebooks/Team Assignment/GridSearch_RF_Stacking_Reg.csv'\n",
        "predictions = model.predict(test)\n",
        "ID = testData[\"Id\"]\n",
        "predict=pd.DataFrame(predictions,columns=['SalePrice'])\n",
        "pd.concat([ID, predict],axis =1).to_csv(output_directory, index = None)"
      ],
      "execution_count": null,
      "outputs": []
    },
    {
      "cell_type": "code",
      "metadata": {
        "id": "2tOafh8cXn6T",
        "colab_type": "code",
        "colab": {
          "base_uri": "https://localhost:8080/",
          "height": 50
        },
        "outputId": "af6b1ac6-33ad-47fd-c0e1-23b3fe28390b"
      },
      "source": [
        "#Setting a DT model using Stacking dataset\n",
        "model = DecisionTreeRegressor()\n",
        "x = S_Train\n",
        "y = y_train\n",
        "test = S_Test\n",
        "\n",
        "#Put in the function for prediction and outputs\n",
        "model.fit(x,y)\n",
        "rmse = math.sqrt(mean_squared_error(y, model.predict(x)))\n",
        "print(rmse)\n",
        "cross_val_score(model,x,y,cv=3, scoring=\"neg_mean_squared_error\")"
      ],
      "execution_count": null,
      "outputs": [
        {
          "output_type": "stream",
          "text": [
            "0.0\n"
          ],
          "name": "stdout"
        },
        {
          "output_type": "execute_result",
          "data": {
            "text/plain": [
              "array([-1.24830020e+09, -1.49967808e+09, -1.58173883e+09])"
            ]
          },
          "metadata": {
            "tags": []
          },
          "execution_count": 203
        }
      ]
    },
    {
      "cell_type": "code",
      "metadata": {
        "id": "BmkPZYRaXn_X",
        "colab_type": "code",
        "colab": {}
      },
      "source": [
        "#Save predictions\n",
        "output_directory = r'/gdrive/My Drive/ColabNotebooks/Team Assignment/DT_Stacking_Reg.csv'\n",
        "predictions = model.predict(test)\n",
        "ID = testData[\"Id\"]\n",
        "predict=pd.DataFrame(predictions,columns=['SalePrice'])\n",
        "pd.concat([ID, predict],axis =1).to_csv(output_directory, index = None)"
      ],
      "execution_count": null,
      "outputs": []
    },
    {
      "cell_type": "code",
      "metadata": {
        "id": "ew4RPfo0XoCJ",
        "colab_type": "code",
        "colab": {}
      },
      "source": [
        ""
      ],
      "execution_count": null,
      "outputs": []
    },
    {
      "cell_type": "code",
      "metadata": {
        "id": "Y-zBUtcbXoEt",
        "colab_type": "code",
        "colab": {}
      },
      "source": [
        ""
      ],
      "execution_count": null,
      "outputs": []
    },
    {
      "cell_type": "code",
      "metadata": {
        "id": "YUMN6XPWXoHL",
        "colab_type": "code",
        "colab": {}
      },
      "source": [
        ""
      ],
      "execution_count": null,
      "outputs": []
    },
    {
      "cell_type": "code",
      "metadata": {
        "id": "ue5F_EbBXoJk",
        "colab_type": "code",
        "colab": {}
      },
      "source": [
        ""
      ],
      "execution_count": null,
      "outputs": []
    },
    {
      "cell_type": "code",
      "metadata": {
        "id": "qXWjFPLIXoTH",
        "colab_type": "code",
        "colab": {}
      },
      "source": [
        ""
      ],
      "execution_count": null,
      "outputs": []
    },
    {
      "cell_type": "code",
      "metadata": {
        "id": "RWplrvIvXn9C",
        "colab_type": "code",
        "colab": {}
      },
      "source": [
        ""
      ],
      "execution_count": null,
      "outputs": []
    },
    {
      "cell_type": "code",
      "metadata": {
        "id": "-Yd724taAv3o",
        "colab_type": "code",
        "colab": {}
      },
      "source": [
        "#Decision Tree Regressor ========================================================================\n",
        "#CONSTRUCT DEFAULT DECISION TREE AND OBTAIN RESPECTIVE ACCURACY \n",
        "clf = DecisionTreeRegressor()\n",
        "clf.fit(X_train, y_train)\n",
        "predictions=clf.predict(X_test)\n",
        "\n",
        "#Get prediction by using cross validation\n",
        "yhat = cross_val_score(clf, X_train, y_train, score = '' cv=5,)\n",
        "print(yhat)"
      ],
      "execution_count": null,
      "outputs": []
    },
    {
      "cell_type": "code",
      "metadata": {
        "id": "ZbHRfy6u0Bu5",
        "colab_type": "code",
        "colab": {}
      },
      "source": [
        "#Save predictions\n",
        "ID = X_test[\"Id\"]\n",
        "predict=pd.DataFrame(predictions,columns=['SalePrice'])\n",
        "pd.concat([ID, predict],axis =1).to_csv(r'/gdrive/My Drive/ColabNotebooks/Team Assignment/DT_Test.csv', index = None)"
      ],
      "execution_count": null,
      "outputs": []
    },
    {
      "cell_type": "code",
      "metadata": {
        "id": "M9KXPcUtBE_E",
        "colab_type": "code",
        "colab": {
          "base_uri": "https://localhost:8080/",
          "height": 50
        },
        "outputId": "de1a323c-4ec0-4fc0-c621-9ff591bac2bd"
      },
      "source": [
        "#Random Forest Regressor==============================================================================\n",
        "#=================================================================================================\n",
        "rfc = RandomForestRegressor()\n",
        "rfc.fit(X_train, y_train)\n",
        "rfc_predict_Train=rfc.predict(X_train)\n",
        "\n",
        "mean_squared_error(y_train,rfc_predict_Train)\n",
        "print(\"RMSE (training) for Decision Tree:{0:10f}\".format(mean_squared_error(y_train,rfc_predict_Train)))\n",
        "rfc_predict_Test=rfc.predict(X_test)\n",
        "mean_squared_error(y_test,rfc_predict_Test)\n",
        "print(\"RMSE (Test Data) for Decision Tree:{0:10f}\".format(mean_squared_error(y_test,rfc_predict_Test)))\n"
      ],
      "execution_count": null,
      "outputs": [
        {
          "output_type": "stream",
          "text": [
            "RMSE (training) for Decision Tree:  0.000159\n",
            "RMSE (Test Data) for Decision Tree:  0.001302\n"
          ],
          "name": "stdout"
        }
      ]
    },
    {
      "cell_type": "code",
      "metadata": {
        "id": "3PvfF2iAUU2I",
        "colab_type": "code",
        "colab": {}
      },
      "source": [
        "#Save predictions\n",
        "df_rfc=pd.DataFrame()\n",
        "df_rfc['TARGET']=rfc_predict_Test\n",
        "export_csv = df_rfc.to_csv(r'/gdrive/My Drive/ColabNotebooks/A4/RF_Test.csv')"
      ],
      "execution_count": null,
      "outputs": []
    },
    {
      "cell_type": "code",
      "metadata": {
        "id": "r3D-s71uBJJJ",
        "colab_type": "code",
        "colab": {
          "base_uri": "https://localhost:8080/",
          "height": 50
        },
        "outputId": "36addb90-a249-429a-cbe8-f5e3396f00f1"
      },
      "source": [
        "#Gradient Boosting Regressor================================================================================\n",
        "\n",
        "abc =GradientBoostingRegressor()\n",
        "abc.fit(X_train, y_train)\n",
        "abc_predict_Train=abc.predict(X_train)\n",
        "\n",
        "mean_squared_error(y_train,abc_predict_Train)\n",
        "print(\"RMSE (training) for Decision Tree:{0:10f}\".format(mean_squared_error(y_train,abc_predict_Train)))\n",
        "abc_predict_Test=rfc.predict(X_test)\n",
        "mean_squared_error(y_test,abc_predict_Test)\n",
        "print(\"RMSE (Test Data) for Decision Tree:{0:10f}\".format(mean_squared_error(y_test,abc_predict_Test)))\n",
        "\n",
        "\n"
      ],
      "execution_count": null,
      "outputs": [
        {
          "output_type": "stream",
          "text": [
            "RMSE (training) for Decision Tree:  0.000073\n",
            "RMSE (Test Data) for Decision Tree:  0.001302\n"
          ],
          "name": "stdout"
        }
      ]
    },
    {
      "cell_type": "code",
      "metadata": {
        "id": "wwmX8AEOXvsA",
        "colab_type": "code",
        "colab": {}
      },
      "source": [
        "#Save predictions\n",
        "df_abc=pd.DataFrame()\n",
        "df_abc['TARGET']=abc_predict_Test\n",
        "export_csv = df_abc.to_csv(r'/gdrive/My Drive/ColabNotebooks/A4/GB_Test.csv')"
      ],
      "execution_count": null,
      "outputs": []
    },
    {
      "cell_type": "code",
      "metadata": {
        "id": "MaI-s2FOetIf",
        "colab_type": "code",
        "colab": {
          "base_uri": "https://localhost:8080/",
          "height": 600
        },
        "outputId": "78342920-b7fc-441c-9c51-75e88db17074"
      },
      "source": [
        "#STACKING MODELS =====================================================================\n",
        "print(\"___________________________________________________________________________________________\\nEnsemble Methods Predictions using GradientBoosting, RandomForest and Decision Tree Classifier\\n\")\n",
        "\n",
        "models = [ GradientBoostingRegressor(), RandomForestRegressor(), DecisionTreeRegressor() ]\n",
        "      \n",
        "S_Train, S_Test = stacking(models,                   \n",
        "                           X_train, y_train, X_test,   \n",
        "                           regression=True, \n",
        "     \n",
        "                           mode='oof_pred_bag', \n",
        "       \n",
        "                           needs_proba=False,\n",
        "         \n",
        "                           save_dir=None, \n",
        "                                        \n",
        "                           n_folds=4, \n",
        "                                                    \n",
        "                           verbose=2)\n",
        "\n"
      ],
      "execution_count": null,
      "outputs": [
        {
          "output_type": "stream",
          "text": [
            "___________________________________________________________________________________________\n",
            "Ensemble Methods Predictions using GradientBoosting, RandomForest and Decision Tree Classifier\n",
            "\n",
            "task:         [regression]\n",
            "metric:       [mean_absolute_error]\n",
            "mode:         [oof_pred_bag]\n",
            "n_models:     [3]\n",
            "\n",
            "model  0:     [GradientBoostingRegressor]\n",
            "    fold  0:  [0.02563111]\n",
            "    fold  1:  [0.01814714]\n",
            "    fold  2:  [0.01596021]\n",
            "    fold  3:  [0.01780302]\n",
            "    ----\n",
            "    MEAN:     [0.01938537] + [0.00370061]\n",
            "    FULL:     [0.01939205]\n",
            "\n",
            "model  1:     [RandomForestRegressor]\n",
            "    fold  0:  [0.02448682]\n",
            "    fold  1:  [0.01943404]\n",
            "    fold  2:  [0.01783374]\n",
            "    fold  3:  [0.02041129]\n",
            "    ----\n",
            "    MEAN:     [0.02054147] + [0.00245667]\n",
            "    FULL:     [0.02054526]\n",
            "\n",
            "model  2:     [DecisionTreeRegressor]\n",
            "    fold  0:  [0.03212766]\n",
            "    fold  1:  [0.02425000]\n",
            "    fold  2:  [0.02063636]\n",
            "    fold  3:  [0.02388770]\n",
            "    ----\n",
            "    MEAN:     [0.02522543] + [0.00422615]\n",
            "    FULL:     [0.02523333]\n",
            "\n"
          ],
          "name": "stdout"
        }
      ]
    },
    {
      "cell_type": "code",
      "metadata": {
        "id": "IBjpxzGXgZ_c",
        "colab_type": "code",
        "colab": {}
      },
      "source": [
        "#STACKING - CONTRUCT A GRADIENT BOOSTING MODEL==============================\n",
        "model = GradientBoostingRegressor()\n",
        "    \n",
        "model = model.fit(S_Train, y_train)\n",
        "y_pred_train = model.predict(S_Train)\n",
        "y_pred_test = model.predict(S_Test)\n",
        "\n"
      ],
      "execution_count": null,
      "outputs": []
    },
    {
      "cell_type": "code",
      "metadata": {
        "id": "OvYtRVvbg84A",
        "colab_type": "code",
        "colab": {
          "base_uri": "https://localhost:8080/",
          "height": 50
        },
        "outputId": "9325e2dc-f9a2-495d-c5bb-8a0672bc5087"
      },
      "source": [
        "mean_squared_error(y_train,y_pred_train)\n",
        "print(\"RMSE (training) for Decision Tree:{0:10f}\".format(mean_squared_error(y_train,y_pred_train)))\n",
        "mean_squared_error(y_test,y_pred_test)\n",
        "print(\"RMSE (Test Data) for Decision Tree:{0:10f}\".format(mean_squared_error(y_test,y_pred_test)))"
      ],
      "execution_count": null,
      "outputs": [
        {
          "output_type": "stream",
          "text": [
            "RMSE (training) for Decision Tree:  0.000452\n",
            "RMSE (Test Data) for Decision Tree:  0.000782\n"
          ],
          "name": "stdout"
        }
      ]
    },
    {
      "cell_type": "code",
      "metadata": {
        "id": "J51JbjDyiGET",
        "colab_type": "code",
        "colab": {}
      },
      "source": [
        "#Save predictions\n",
        "df_stacking=pd.DataFrame()\n",
        "df_stacking['TARGET']=y_pred_test\n",
        "export_csv = df_rfc.to_csv(r'/gdrive/My Drive/ColabNotebooks/A4/Stacking_Test.csv')"
      ],
      "execution_count": null,
      "outputs": []
    }
  ]
}
